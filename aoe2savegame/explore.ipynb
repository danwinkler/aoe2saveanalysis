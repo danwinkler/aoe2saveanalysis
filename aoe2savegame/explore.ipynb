{
 "metadata": {
  "language_info": {
   "codemirror_mode": {
    "name": "ipython",
    "version": 3
   },
   "file_extension": ".py",
   "mimetype": "text/x-python",
   "name": "python",
   "nbconvert_exporter": "python",
   "pygments_lexer": "ipython3",
   "version": "3.8.5"
  },
  "orig_nbformat": 4,
  "kernelspec": {
   "name": "python3",
   "display_name": "Python 3.8.5 64-bit ('aoe2savegame-F-xRz8Bb-py3.8': poetry)"
  },
  "interpreter": {
   "hash": "2b2f62f5061cfdc259bc18bc6ee8d59ad54aa77c9a98dffb79074b3743da0380"
  }
 },
 "nbformat": 4,
 "nbformat_minor": 2,
 "cells": [
  {
   "cell_type": "code",
   "execution_count": 2,
   "metadata": {},
   "outputs": [],
   "source": [
    "import os\n",
    "from collections import defaultdict\n",
    "\n",
    "from plumbum import local\n",
    "from mgz import header, fast, enums\n"
   ]
  },
  {
   "cell_type": "code",
   "execution_count": 3,
   "metadata": {},
   "outputs": [
    {
     "output_type": "stream",
     "name": "stdout",
     "text": [
      "Reading header\n",
      "Finished reading header\n"
     ]
    }
   ],
   "source": [
    "filename = \"../saves/AgeIIDE_Replay_99469529.aoe2record\"\n",
    "ops = []\n",
    "with local.path(filename).open(\"rb\") as data:\n",
    "    eof = os.fstat(data.fileno()).st_size\n",
    "    print(\"Reading header\")\n",
    "    stream = header.parse_stream(data)\n",
    "    meta = fast.meta(data)\n",
    "    print(\"Finished reading header\")\n",
    "    while data.tell() < eof:\n",
    "        op = fast.operation(data)\n",
    "        ops.append(op)"
   ]
  },
  {
   "cell_type": "code",
   "execution_count": 4,
   "metadata": {
    "tags": []
   },
   "outputs": [],
   "source": [
    "actions_by_player = defaultdict(list)\n",
    "for op in ops:\n",
    "    if op[0] == fast.Operation.ACTION:\n",
    "        action, data = op[1]\n",
    "        if action in [\n",
    "            fast.Action.DE_QUEUE,\n",
    "            fast.Action.BUILD,\n",
    "            fast.Action.RESEARCH,\n",
    "        ]:\n",
    "            actions_by_player[data[\"player_id\"]].append((action, data))"
   ]
  },
  {
   "cell_type": "code",
   "execution_count": 5,
   "metadata": {
    "tags": []
   },
   "outputs": [],
   "source": [
    "player_id_to_name = {p.player_number: p.name.value for p in stream.de.players if p.player_number >= 0}"
   ]
  },
  {
   "cell_type": "code",
   "execution_count": 6,
   "metadata": {},
   "outputs": [],
   "source": [
    "# https://halfon.aoe2.se/\n",
    "unit_id_to_name = {\n",
    "    83: \"Villager\",\n",
    "    93: \"Spearman\",\n",
    "    448: \"Scout Cavalry\"\n",
    "}\n",
    "\n",
    "building_id_to_name = {\n",
    "    68: \"Mill\",\n",
    "    562: \"Lumber Camp\",\n",
    "    50: \"Farm\",\n",
    "    12: \"Barracks\",\n",
    "    584: \"Mining Camp\",\n",
    "    103: \"Blacksmith\",\n",
    "    101: \"Stable\",\n",
    "    70: \"House\",\n",
    "    84: \"Market\",\n",
    "    804: \"Palisade Gate\",\n",
    "    # This isn't a mistake, there's multiple archery ranges with different stats :/\n",
    "    14: \"Archery Range\",\n",
    "    87: \"Archery Range\",\n",
    "}\n",
    "\n",
    "technology_id_to_name = {\n",
    "    101: \"Feudal Age\",\n",
    "    22: \"Loom\",\n",
    "    202: \"Double Bit Axe\",\n",
    "    213: \"Wheelbarrow\",\n",
    "    435: \"Bloodlines\",\n",
    "    14: \"Horse Collar\"\n",
    "}\n",
    "\n",
    "def get_consecutive_count(values):\n",
    "    ret = []\n",
    "    current = None\n",
    "    count = 0\n",
    "    for v in values:\n",
    "        if current != v:\n",
    "            if count > 0:\n",
    "                ret.append((current, count))\n",
    "            current = v\n",
    "            count = 1\n",
    "        else:\n",
    "            count += 1\n",
    "    return ret\n",
    "\n",
    "\n",
    "def get_build_order(actions):\n",
    "    bo = []\n",
    "    for action, data in actions:\n",
    "        if action == fast.Action.DE_QUEUE:\n",
    "            unit_id = data['unit_id']\n",
    "            bo.append(unit_id_to_name.get(unit_id, unit_id))\n",
    "        elif action == fast.Action.BUILD:\n",
    "            building_id = data['building_id']\n",
    "            bo.append(building_id_to_name.get(building_id, building_id))\n",
    "        elif action == fast.Action.RESEARCH:\n",
    "            technology_id = data['technology_id']\n",
    "            bo.append(technology_id_to_name.get(technology_id, technology_id))\n",
    "    return get_consecutive_count(bo)\n"
   ]
  },
  {
   "cell_type": "code",
   "execution_count": 7,
   "metadata": {},
   "outputs": [],
   "source": [
    "build_orders_by_player = {player_id: get_build_order(action) for player_id, action in actions_by_player.items()}"
   ]
  },
  {
   "cell_type": "code",
   "execution_count": 8,
   "metadata": {},
   "outputs": [
    {
     "output_type": "display_data",
     "data": {
      "text/plain": "┏━━━━━━━━━━━━━━━━━━━━━━┳━━━━━━━━━━━━━━━━━┳━━━━━━━━━━━━━━━━━┳━━━━━━━━━━━━━━━━━┳━━━━━━━━━━━━━━━━━┳━━━━━━━━━━━━━━━━━┳━━━━━━━━━━━━━━━━━━━━┳━━━━━━━━━━━━━━━━━┓\n┃\u001b[1m \u001b[0m\u001b[1mTZWC-Jonathan.Franco\u001b[0m\u001b[1m \u001b[0m┃\u001b[1m \u001b[0m\u001b[1mL DUBBA E      \u001b[0m\u001b[1m \u001b[0m┃\u001b[1m \u001b[0m\u001b[1mTZWC-Guilobo13 \u001b[0m\u001b[1m \u001b[0m┃\u001b[1m \u001b[0m\u001b[1mkymcdonald     \u001b[0m\u001b[1m \u001b[0m┃\u001b[1m \u001b[0m\u001b[1mTZWC-Expresso48\u001b[0m\u001b[1m \u001b[0m┃\u001b[1m \u001b[0m\u001b[1mDanTheMan      \u001b[0m\u001b[1m \u001b[0m┃\u001b[1m \u001b[0m\u001b[1mTZWC-dowglasfranco\u001b[0m\u001b[1m \u001b[0m┃\u001b[1m \u001b[0m\u001b[1mMONEY SHOTT    \u001b[0m\u001b[1m \u001b[0m┃\n┡━━━━━━━━━━━━━━━━━━━━━━╇━━━━━━━━━━━━━━━━━╇━━━━━━━━━━━━━━━━━╇━━━━━━━━━━━━━━━━━╇━━━━━━━━━━━━━━━━━╇━━━━━━━━━━━━━━━━━╇━━━━━━━━━━━━━━━━━━━━╇━━━━━━━━━━━━━━━━━┩\n│ House x2             │ House x2        │ House x2        │ House x2        │ Villager x2     │ Villager x5     │ House x2           │ Loom            │\n│ Villager x9          │ Villager x6     │ Loom            │ Villager x5     │ House x2        │ Lumber Camp     │ Villager x11       │ Villager x2     │\n│ Lumber Camp          │ Lumber Camp     │ Villager x13    │ Lumber Camp     │ Villager x11    │ Villager x9     │ Lumber Camp        │ House           │\n│ Villager x2          │ Villager x3     │ Lumber Camp     │ Villager x4     │ Mill            │ Mill            │ Villager           │ Villager        │\n│ House                │ Double Bit Axe  │ House x3        │ House           │ Villager        │ Villager x5     │ Mill               │ House x2        │\n│ Mill                 │ Villager x2     │ Villager x2     │ Villager        │ Lumber Camp     │ Barracks        │ Villager           │ Mill            │\n│ Villager x2          │ House           │ Mill            │ Mill            │ Villager x8     │ Feudal Age      │ Loom               │ Villager x8     │\n│ House x5             │ Loom            │ Villager x3     │ House           │ House x3        │ Farm            │ Villager x2        │ Lumber Camp     │\n│ Villager x5          │ Villager x2     │ House           │ Loom            │ Feudal Age      │ 792             │ House x2           │ Villager x6     │\n│ Barracks             │ Mill            │ Villager x3     │ Villager x7     │ Villager x2     │ Stable          │ Villager x2        │ House           │\n│ House x3             │ Feudal Age      │ Barracks        │ Farm            │ House x5        │ Spearman x2     │ Barracks           │ Villager x6     │\n│ Villager x3          │ Lumber Camp     │ Villager x6     │ Villager        │ Villager x4     │ Double Bit Axe  │ Villager x5        │ Mining Camp     │\n│ Mining Camp          │ Villager        │ Mining Camp     │ Lumber Camp     │ Market          │ Villager x3     │ Feudal Age         │ Villager        │\n│ Villager             │ Barracks        │ Feudal Age      │ Farm            │ Villager x3     │ Bloodlines      │ Mining Camp        │ Mining Camp     │\n│ Feudal Age           │ Villager x2     │ 792             │ Barracks        │ Blacksmith      │ Scout Cavalry   │ Villager x2        │ House x8        │\n│ Villager x2          │ Stable          │ Villager x4     │ Feudal Age      │ Mining Camp     │ Blacksmith      │ House x3           │ Feudal Age      │\n│ Farm x9              │ Villager        │ Lumber Camp     │ Villager        │ Villager x7     │ Scout Cavalry   │ Palisade Gate      │ Barracks x2     │\n│ Market               │ House           │ Villager        │ House x2        │ Horse Collar    │ Farm            │ Villager           │ Farm x4         │\n│ Blacksmith           │ Blacksmith      │ Farm x3         │ Villager x3     │ Mining Camp     │ Scout Cavalry   │ Double Bit Axe     │ Wheelbarrow     │\n│ Villager x5          │ Scout Cavalry   │ Market          │ Mining Camp     │ House x3        │ Stable          │ Archery Range      │ Villager x2     │\n└──────────────────────┴─────────────────┴─────────────────┴─────────────────┴─────────────────┴─────────────────┴────────────────────┴─────────────────┘\n",
      "text/html": "<pre style=\"white-space:pre;overflow-x:auto;line-height:normal;font-family:Menlo,'DejaVu Sans Mono',consolas,'Courier New',monospace\">┏━━━━━━━━━━━━━━━━━━━━━━┳━━━━━━━━━━━━━━━━━┳━━━━━━━━━━━━━━━━━┳━━━━━━━━━━━━━━━━━┳━━━━━━━━━━━━━━━━━┳━━━━━━━━━━━━━━━━━┳━━━━━━━━━━━━━━━━━━━━┳━━━━━━━━━━━━━━━━━┓\n┃<span style=\"font-weight: bold\"> TZWC-Jonathan.Franco </span>┃<span style=\"font-weight: bold\"> L DUBBA E       </span>┃<span style=\"font-weight: bold\"> TZWC-Guilobo13  </span>┃<span style=\"font-weight: bold\"> kymcdonald      </span>┃<span style=\"font-weight: bold\"> TZWC-Expresso48 </span>┃<span style=\"font-weight: bold\"> DanTheMan       </span>┃<span style=\"font-weight: bold\"> TZWC-dowglasfranco </span>┃<span style=\"font-weight: bold\"> MONEY SHOTT     </span>┃\n┡━━━━━━━━━━━━━━━━━━━━━━╇━━━━━━━━━━━━━━━━━╇━━━━━━━━━━━━━━━━━╇━━━━━━━━━━━━━━━━━╇━━━━━━━━━━━━━━━━━╇━━━━━━━━━━━━━━━━━╇━━━━━━━━━━━━━━━━━━━━╇━━━━━━━━━━━━━━━━━┩\n│ House x2             │ House x2        │ House x2        │ House x2        │ Villager x2     │ Villager x5     │ House x2           │ Loom            │\n│ Villager x9          │ Villager x6     │ Loom            │ Villager x5     │ House x2        │ Lumber Camp     │ Villager x11       │ Villager x2     │\n│ Lumber Camp          │ Lumber Camp     │ Villager x13    │ Lumber Camp     │ Villager x11    │ Villager x9     │ Lumber Camp        │ House           │\n│ Villager x2          │ Villager x3     │ Lumber Camp     │ Villager x4     │ Mill            │ Mill            │ Villager           │ Villager        │\n│ House                │ Double Bit Axe  │ House x3        │ House           │ Villager        │ Villager x5     │ Mill               │ House x2        │\n│ Mill                 │ Villager x2     │ Villager x2     │ Villager        │ Lumber Camp     │ Barracks        │ Villager           │ Mill            │\n│ Villager x2          │ House           │ Mill            │ Mill            │ Villager x8     │ Feudal Age      │ Loom               │ Villager x8     │\n│ House x5             │ Loom            │ Villager x3     │ House           │ House x3        │ Farm            │ Villager x2        │ Lumber Camp     │\n│ Villager x5          │ Villager x2     │ House           │ Loom            │ Feudal Age      │ 792             │ House x2           │ Villager x6     │\n│ Barracks             │ Mill            │ Villager x3     │ Villager x7     │ Villager x2     │ Stable          │ Villager x2        │ House           │\n│ House x3             │ Feudal Age      │ Barracks        │ Farm            │ House x5        │ Spearman x2     │ Barracks           │ Villager x6     │\n│ Villager x3          │ Lumber Camp     │ Villager x6     │ Villager        │ Villager x4     │ Double Bit Axe  │ Villager x5        │ Mining Camp     │\n│ Mining Camp          │ Villager        │ Mining Camp     │ Lumber Camp     │ Market          │ Villager x3     │ Feudal Age         │ Villager        │\n│ Villager             │ Barracks        │ Feudal Age      │ Farm            │ Villager x3     │ Bloodlines      │ Mining Camp        │ Mining Camp     │\n│ Feudal Age           │ Villager x2     │ 792             │ Barracks        │ Blacksmith      │ Scout Cavalry   │ Villager x2        │ House x8        │\n│ Villager x2          │ Stable          │ Villager x4     │ Feudal Age      │ Mining Camp     │ Blacksmith      │ House x3           │ Feudal Age      │\n│ Farm x9              │ Villager        │ Lumber Camp     │ Villager        │ Villager x7     │ Scout Cavalry   │ Palisade Gate      │ Barracks x2     │\n│ Market               │ House           │ Villager        │ House x2        │ Horse Collar    │ Farm            │ Villager           │ Farm x4         │\n│ Blacksmith           │ Blacksmith      │ Farm x3         │ Villager x3     │ Mining Camp     │ Scout Cavalry   │ Double Bit Axe     │ Wheelbarrow     │\n│ Villager x5          │ Scout Cavalry   │ Market          │ Mining Camp     │ House x3        │ Stable          │ Archery Range      │ Villager x2     │\n└──────────────────────┴─────────────────┴─────────────────┴─────────────────┴─────────────────┴─────────────────┴────────────────────┴─────────────────┘\n</pre>\n"
     },
     "metadata": {}
    }
   ],
   "source": [
    "from rich.console import Console\n",
    "from rich.table import Table\n",
    "\n",
    "console = Console(width=200)\n",
    "\n",
    "table = Table(show_header=True, header_style=\"bold\")\n",
    "\n",
    "for id, player in player_id_to_name.items():\n",
    "    table.add_column(player.decode(), no_wrap=True, min_width=15)\n",
    "\n",
    "def format_bo_tuple(name, count):\n",
    "    if count == 1:\n",
    "        return f\"{name}\"\n",
    "    return f\"{name} x{count}\"\n",
    "\n",
    "for i in range(20):\n",
    "    table.add_row(\n",
    "        *[format_bo_tuple(*build_orders_by_player[p][i]) for p in player_id_to_name.keys()]\n",
    "    )\n",
    "\n",
    "console.print(table)"
   ]
  },
  {
   "cell_type": "code",
   "execution_count": null,
   "metadata": {},
   "outputs": [],
   "source": []
  },
  {
   "cell_type": "code",
   "execution_count": 154,
   "metadata": {},
   "outputs": [],
   "source": [
    "a = [o for o in ops if o[1][0] == fast.Action.RESEARCH]"
   ]
  }
 ]
}